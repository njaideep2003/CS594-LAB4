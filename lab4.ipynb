{
 "cells": [
  {
   "cell_type": "markdown",
   "metadata": {
    "id": "XHtaPysVSNZN"
   },
   "source": [
    "# Step 1 - Install the required dependencies and make sure the python version is 3.10 and above"
   ]
  },
  {
   "cell_type": "code",
   "execution_count": 59,
   "metadata": {
    "id": "APS6D3eiSAR_"
   },
   "outputs": [
    {
     "name": "stdout",
     "output_type": "stream",
     "text": [
      "Requirement already satisfied: zenoml in c:\\users\\jaideep\\anaconda3\\envs\\zeno_lab\\lib\\site-packages (0.6.4)\n",
      "Requirement already satisfied: fastapi<0.101.0,>=0.95.1 in c:\\users\\jaideep\\anaconda3\\envs\\zeno_lab\\lib\\site-packages (from zenoml) (0.100.1)\n",
      "Requirement already satisfied: inquirer<4.0.0,>=3.1.2 in c:\\users\\jaideep\\anaconda3\\envs\\zeno_lab\\lib\\site-packages (from zenoml) (3.4.0)\n",
      "Requirement already satisfied: nest-asyncio<2.0.0,>=1.5.6 in c:\\users\\jaideep\\anaconda3\\envs\\zeno_lab\\lib\\site-packages (from zenoml) (1.6.0)\n",
      "Requirement already satisfied: opentsne<1.1.0,>=0.7.1 in c:\\users\\jaideep\\anaconda3\\envs\\zeno_lab\\lib\\site-packages (from zenoml) (1.0.2)\n",
      "Requirement already satisfied: pandas<3.0.0,>=2.0.0 in c:\\users\\jaideep\\anaconda3\\envs\\zeno_lab\\lib\\site-packages (from zenoml) (2.2.3)\n",
      "Requirement already satisfied: pathos<0.4.0,>=0.3.0 in c:\\users\\jaideep\\anaconda3\\envs\\zeno_lab\\lib\\site-packages (from zenoml) (0.3.2)\n",
      "Requirement already satisfied: pydantic<2.0.0 in c:\\users\\jaideep\\anaconda3\\envs\\zeno_lab\\lib\\site-packages (from zenoml) (1.10.21)\n",
      "Requirement already satisfied: requests<3.0.0,>=2.28.1 in c:\\users\\jaideep\\anaconda3\\envs\\zeno_lab\\lib\\site-packages (from zenoml) (2.32.3)\n",
      "Requirement already satisfied: setuptools in c:\\users\\jaideep\\anaconda3\\envs\\zeno_lab\\lib\\site-packages (from zenoml) (75.8.0)\n",
      "Requirement already satisfied: tomli<3.0.0,>=2.0.1 in c:\\users\\jaideep\\anaconda3\\envs\\zeno_lab\\lib\\site-packages (from zenoml) (2.2.1)\n",
      "Requirement already satisfied: tqdm<5.0.0,>=4.64.0 in c:\\users\\jaideep\\anaconda3\\envs\\zeno_lab\\lib\\site-packages (from zenoml) (4.67.1)\n",
      "Requirement already satisfied: uvicorn<0.24,>=0.22 in c:\\users\\jaideep\\anaconda3\\envs\\zeno_lab\\lib\\site-packages (from zenoml) (0.23.2)\n",
      "Requirement already satisfied: websockets<12.0,>=11.0 in c:\\users\\jaideep\\anaconda3\\envs\\zeno_lab\\lib\\site-packages (from zenoml) (11.0.3)\n",
      "Requirement already satisfied: zeno-sliceline<0.0.2,>=0.0.1 in c:\\users\\jaideep\\anaconda3\\envs\\zeno_lab\\lib\\site-packages (from zenoml) (0.0.1)\n",
      "Requirement already satisfied: starlette<0.28.0,>=0.27.0 in c:\\users\\jaideep\\anaconda3\\envs\\zeno_lab\\lib\\site-packages (from fastapi<0.101.0,>=0.95.1->zenoml) (0.27.0)\n",
      "Requirement already satisfied: typing-extensions>=4.5.0 in c:\\users\\jaideep\\anaconda3\\envs\\zeno_lab\\lib\\site-packages (from fastapi<0.101.0,>=0.95.1->zenoml) (4.12.2)\n",
      "Requirement already satisfied: blessed>=1.19.0 in c:\\users\\jaideep\\anaconda3\\envs\\zeno_lab\\lib\\site-packages (from inquirer<4.0.0,>=3.1.2->zenoml) (1.20.0)\n",
      "Requirement already satisfied: editor>=1.6.0 in c:\\users\\jaideep\\anaconda3\\envs\\zeno_lab\\lib\\site-packages (from inquirer<4.0.0,>=3.1.2->zenoml) (1.6.6)\n",
      "Requirement already satisfied: readchar>=4.2.0 in c:\\users\\jaideep\\anaconda3\\envs\\zeno_lab\\lib\\site-packages (from inquirer<4.0.0,>=3.1.2->zenoml) (4.2.1)\n",
      "Requirement already satisfied: numpy>=1.16.6 in c:\\users\\jaideep\\anaconda3\\envs\\zeno_lab\\lib\\site-packages (from opentsne<1.1.0,>=0.7.1->zenoml) (1.26.4)\n",
      "Requirement already satisfied: scikit-learn>=0.20 in c:\\users\\jaideep\\anaconda3\\envs\\zeno_lab\\lib\\site-packages (from opentsne<1.1.0,>=0.7.1->zenoml) (1.6.1)\n",
      "Requirement already satisfied: scipy in c:\\users\\jaideep\\anaconda3\\envs\\zeno_lab\\lib\\site-packages (from opentsne<1.1.0,>=0.7.1->zenoml) (1.15.2)\n",
      "Requirement already satisfied: python-dateutil>=2.8.2 in c:\\users\\jaideep\\anaconda3\\envs\\zeno_lab\\lib\\site-packages (from pandas<3.0.0,>=2.0.0->zenoml) (2.9.0.post0)\n",
      "Requirement already satisfied: pytz>=2020.1 in c:\\users\\jaideep\\anaconda3\\envs\\zeno_lab\\lib\\site-packages (from pandas<3.0.0,>=2.0.0->zenoml) (2025.1)\n",
      "Requirement already satisfied: tzdata>=2022.7 in c:\\users\\jaideep\\anaconda3\\envs\\zeno_lab\\lib\\site-packages (from pandas<3.0.0,>=2.0.0->zenoml) (2025.1)\n",
      "Requirement already satisfied: ppft>=1.7.6.8 in c:\\users\\jaideep\\anaconda3\\envs\\zeno_lab\\lib\\site-packages (from pathos<0.4.0,>=0.3.0->zenoml) (1.7.6.9)\n",
      "Requirement already satisfied: dill>=0.3.8 in c:\\users\\jaideep\\anaconda3\\envs\\zeno_lab\\lib\\site-packages (from pathos<0.4.0,>=0.3.0->zenoml) (0.3.8)\n",
      "Requirement already satisfied: pox>=0.3.4 in c:\\users\\jaideep\\anaconda3\\envs\\zeno_lab\\lib\\site-packages (from pathos<0.4.0,>=0.3.0->zenoml) (0.3.5)\n",
      "Requirement already satisfied: multiprocess>=0.70.16 in c:\\users\\jaideep\\anaconda3\\envs\\zeno_lab\\lib\\site-packages (from pathos<0.4.0,>=0.3.0->zenoml) (0.70.16)\n",
      "Requirement already satisfied: charset-normalizer<4,>=2 in c:\\users\\jaideep\\anaconda3\\envs\\zeno_lab\\lib\\site-packages (from requests<3.0.0,>=2.28.1->zenoml) (3.4.1)\n",
      "Requirement already satisfied: idna<4,>=2.5 in c:\\users\\jaideep\\anaconda3\\envs\\zeno_lab\\lib\\site-packages (from requests<3.0.0,>=2.28.1->zenoml) (3.10)\n",
      "Requirement already satisfied: urllib3<3,>=1.21.1 in c:\\users\\jaideep\\anaconda3\\envs\\zeno_lab\\lib\\site-packages (from requests<3.0.0,>=2.28.1->zenoml) (2.3.0)\n",
      "Requirement already satisfied: certifi>=2017.4.17 in c:\\users\\jaideep\\anaconda3\\envs\\zeno_lab\\lib\\site-packages (from requests<3.0.0,>=2.28.1->zenoml) (2025.1.31)\n",
      "Requirement already satisfied: colorama in c:\\users\\jaideep\\anaconda3\\envs\\zeno_lab\\lib\\site-packages (from tqdm<5.0.0,>=4.64.0->zenoml) (0.4.6)\n",
      "Requirement already satisfied: click>=7.0 in c:\\users\\jaideep\\anaconda3\\envs\\zeno_lab\\lib\\site-packages (from uvicorn<0.24,>=0.22->zenoml) (8.1.8)\n",
      "Requirement already satisfied: h11>=0.8 in c:\\users\\jaideep\\anaconda3\\envs\\zeno_lab\\lib\\site-packages (from uvicorn<0.24,>=0.22->zenoml) (0.14.0)\n",
      "Requirement already satisfied: wcwidth>=0.1.4 in c:\\users\\jaideep\\anaconda3\\envs\\zeno_lab\\lib\\site-packages (from blessed>=1.19.0->inquirer<4.0.0,>=3.1.2->zenoml) (0.2.13)\n",
      "Requirement already satisfied: six>=1.9.0 in c:\\users\\jaideep\\anaconda3\\envs\\zeno_lab\\lib\\site-packages (from blessed>=1.19.0->inquirer<4.0.0,>=3.1.2->zenoml) (1.17.0)\n",
      "Requirement already satisfied: jinxed>=1.1.0 in c:\\users\\jaideep\\anaconda3\\envs\\zeno_lab\\lib\\site-packages (from blessed>=1.19.0->inquirer<4.0.0,>=3.1.2->zenoml) (1.3.0)\n",
      "Requirement already satisfied: runs in c:\\users\\jaideep\\anaconda3\\envs\\zeno_lab\\lib\\site-packages (from editor>=1.6.0->inquirer<4.0.0,>=3.1.2->zenoml) (1.2.2)\n",
      "Requirement already satisfied: xmod in c:\\users\\jaideep\\anaconda3\\envs\\zeno_lab\\lib\\site-packages (from editor>=1.6.0->inquirer<4.0.0,>=3.1.2->zenoml) (1.8.1)\n",
      "Requirement already satisfied: joblib>=1.2.0 in c:\\users\\jaideep\\anaconda3\\envs\\zeno_lab\\lib\\site-packages (from scikit-learn>=0.20->opentsne<1.1.0,>=0.7.1->zenoml) (1.4.2)\n",
      "Requirement already satisfied: threadpoolctl>=3.1.0 in c:\\users\\jaideep\\anaconda3\\envs\\zeno_lab\\lib\\site-packages (from scikit-learn>=0.20->opentsne<1.1.0,>=0.7.1->zenoml) (3.5.0)\n",
      "Requirement already satisfied: anyio<5,>=3.4.0 in c:\\users\\jaideep\\anaconda3\\envs\\zeno_lab\\lib\\site-packages (from starlette<0.28.0,>=0.27.0->fastapi<0.101.0,>=0.95.1->zenoml) (4.8.0)\n",
      "Requirement already satisfied: exceptiongroup>=1.0.2 in c:\\users\\jaideep\\anaconda3\\envs\\zeno_lab\\lib\\site-packages (from anyio<5,>=3.4.0->starlette<0.28.0,>=0.27.0->fastapi<0.101.0,>=0.95.1->zenoml) (1.2.2)\n",
      "Requirement already satisfied: sniffio>=1.1 in c:\\users\\jaideep\\anaconda3\\envs\\zeno_lab\\lib\\site-packages (from anyio<5,>=3.4.0->starlette<0.28.0,>=0.27.0->fastapi<0.101.0,>=0.95.1->zenoml) (1.3.1)\n",
      "Requirement already satisfied: ansicon in c:\\users\\jaideep\\anaconda3\\envs\\zeno_lab\\lib\\site-packages (from jinxed>=1.1.0->blessed>=1.19.0->inquirer<4.0.0,>=3.1.2->zenoml) (1.89.0)\n"
     ]
    }
   ],
   "source": [
    "!pip install zenoml"
   ]
  },
  {
   "cell_type": "code",
   "execution_count": 60,
   "metadata": {},
   "outputs": [
    {
     "name": "stdout",
     "output_type": "stream",
     "text": [
      "Requirement already satisfied: datasets in c:\\users\\jaideep\\anaconda3\\envs\\zeno_lab\\lib\\site-packages (3.3.1)\n",
      "Requirement already satisfied: filelock in c:\\users\\jaideep\\anaconda3\\envs\\zeno_lab\\lib\\site-packages (from datasets) (3.17.0)\n",
      "Requirement already satisfied: numpy>=1.17 in c:\\users\\jaideep\\anaconda3\\envs\\zeno_lab\\lib\\site-packages (from datasets) (1.26.4)\n",
      "Requirement already satisfied: pyarrow>=15.0.0 in c:\\users\\jaideep\\anaconda3\\envs\\zeno_lab\\lib\\site-packages (from datasets) (19.0.0)\n",
      "Requirement already satisfied: dill<0.3.9,>=0.3.0 in c:\\users\\jaideep\\anaconda3\\envs\\zeno_lab\\lib\\site-packages (from datasets) (0.3.8)\n",
      "Requirement already satisfied: pandas in c:\\users\\jaideep\\anaconda3\\envs\\zeno_lab\\lib\\site-packages (from datasets) (2.2.3)\n",
      "Requirement already satisfied: requests>=2.32.2 in c:\\users\\jaideep\\anaconda3\\envs\\zeno_lab\\lib\\site-packages (from datasets) (2.32.3)\n",
      "Requirement already satisfied: tqdm>=4.66.3 in c:\\users\\jaideep\\anaconda3\\envs\\zeno_lab\\lib\\site-packages (from datasets) (4.67.1)\n",
      "Requirement already satisfied: xxhash in c:\\users\\jaideep\\anaconda3\\envs\\zeno_lab\\lib\\site-packages (from datasets) (3.5.0)\n",
      "Requirement already satisfied: multiprocess<0.70.17 in c:\\users\\jaideep\\anaconda3\\envs\\zeno_lab\\lib\\site-packages (from datasets) (0.70.16)\n",
      "Requirement already satisfied: fsspec<=2024.12.0,>=2023.1.0 in c:\\users\\jaideep\\anaconda3\\envs\\zeno_lab\\lib\\site-packages (from fsspec[http]<=2024.12.0,>=2023.1.0->datasets) (2024.12.0)\n",
      "Requirement already satisfied: aiohttp in c:\\users\\jaideep\\anaconda3\\envs\\zeno_lab\\lib\\site-packages (from datasets) (3.11.12)\n",
      "Requirement already satisfied: huggingface-hub>=0.24.0 in c:\\users\\jaideep\\anaconda3\\envs\\zeno_lab\\lib\\site-packages (from datasets) (0.28.1)\n",
      "Requirement already satisfied: packaging in c:\\users\\jaideep\\anaconda3\\envs\\zeno_lab\\lib\\site-packages (from datasets) (24.2)\n",
      "Requirement already satisfied: pyyaml>=5.1 in c:\\users\\jaideep\\anaconda3\\envs\\zeno_lab\\lib\\site-packages (from datasets) (6.0.2)\n",
      "Requirement already satisfied: aiohappyeyeballs>=2.3.0 in c:\\users\\jaideep\\anaconda3\\envs\\zeno_lab\\lib\\site-packages (from aiohttp->datasets) (2.4.6)\n",
      "Requirement already satisfied: aiosignal>=1.1.2 in c:\\users\\jaideep\\anaconda3\\envs\\zeno_lab\\lib\\site-packages (from aiohttp->datasets) (1.3.2)\n",
      "Requirement already satisfied: async-timeout<6.0,>=4.0 in c:\\users\\jaideep\\anaconda3\\envs\\zeno_lab\\lib\\site-packages (from aiohttp->datasets) (5.0.1)\n",
      "Requirement already satisfied: attrs>=17.3.0 in c:\\users\\jaideep\\anaconda3\\envs\\zeno_lab\\lib\\site-packages (from aiohttp->datasets) (25.1.0)\n",
      "Requirement already satisfied: frozenlist>=1.1.1 in c:\\users\\jaideep\\anaconda3\\envs\\zeno_lab\\lib\\site-packages (from aiohttp->datasets) (1.5.0)\n",
      "Requirement already satisfied: multidict<7.0,>=4.5 in c:\\users\\jaideep\\anaconda3\\envs\\zeno_lab\\lib\\site-packages (from aiohttp->datasets) (6.1.0)\n",
      "Requirement already satisfied: propcache>=0.2.0 in c:\\users\\jaideep\\anaconda3\\envs\\zeno_lab\\lib\\site-packages (from aiohttp->datasets) (0.2.1)\n",
      "Requirement already satisfied: yarl<2.0,>=1.17.0 in c:\\users\\jaideep\\anaconda3\\envs\\zeno_lab\\lib\\site-packages (from aiohttp->datasets) (1.18.3)\n",
      "Requirement already satisfied: typing-extensions>=3.7.4.3 in c:\\users\\jaideep\\anaconda3\\envs\\zeno_lab\\lib\\site-packages (from huggingface-hub>=0.24.0->datasets) (4.12.2)\n",
      "Requirement already satisfied: charset-normalizer<4,>=2 in c:\\users\\jaideep\\anaconda3\\envs\\zeno_lab\\lib\\site-packages (from requests>=2.32.2->datasets) (3.4.1)\n",
      "Requirement already satisfied: idna<4,>=2.5 in c:\\users\\jaideep\\anaconda3\\envs\\zeno_lab\\lib\\site-packages (from requests>=2.32.2->datasets) (3.10)\n",
      "Requirement already satisfied: urllib3<3,>=1.21.1 in c:\\users\\jaideep\\anaconda3\\envs\\zeno_lab\\lib\\site-packages (from requests>=2.32.2->datasets) (2.3.0)\n",
      "Requirement already satisfied: certifi>=2017.4.17 in c:\\users\\jaideep\\anaconda3\\envs\\zeno_lab\\lib\\site-packages (from requests>=2.32.2->datasets) (2025.1.31)\n",
      "Requirement already satisfied: colorama in c:\\users\\jaideep\\anaconda3\\envs\\zeno_lab\\lib\\site-packages (from tqdm>=4.66.3->datasets) (0.4.6)\n",
      "Requirement already satisfied: python-dateutil>=2.8.2 in c:\\users\\jaideep\\anaconda3\\envs\\zeno_lab\\lib\\site-packages (from pandas->datasets) (2.9.0.post0)\n",
      "Requirement already satisfied: pytz>=2020.1 in c:\\users\\jaideep\\anaconda3\\envs\\zeno_lab\\lib\\site-packages (from pandas->datasets) (2025.1)\n",
      "Requirement already satisfied: tzdata>=2022.7 in c:\\users\\jaideep\\anaconda3\\envs\\zeno_lab\\lib\\site-packages (from pandas->datasets) (2025.1)\n",
      "Requirement already satisfied: six>=1.5 in c:\\users\\jaideep\\anaconda3\\envs\\zeno_lab\\lib\\site-packages (from python-dateutil>=2.8.2->pandas->datasets) (1.17.0)\n",
      "Requirement already satisfied: transformers in c:\\users\\jaideep\\anaconda3\\envs\\zeno_lab\\lib\\site-packages (4.49.0)\n",
      "Requirement already satisfied: filelock in c:\\users\\jaideep\\anaconda3\\envs\\zeno_lab\\lib\\site-packages (from transformers) (3.17.0)\n",
      "Requirement already satisfied: huggingface-hub<1.0,>=0.26.0 in c:\\users\\jaideep\\anaconda3\\envs\\zeno_lab\\lib\\site-packages (from transformers) (0.28.1)\n",
      "Requirement already satisfied: numpy>=1.17 in c:\\users\\jaideep\\anaconda3\\envs\\zeno_lab\\lib\\site-packages (from transformers) (1.26.4)\n",
      "Requirement already satisfied: packaging>=20.0 in c:\\users\\jaideep\\anaconda3\\envs\\zeno_lab\\lib\\site-packages (from transformers) (24.2)\n",
      "Requirement already satisfied: pyyaml>=5.1 in c:\\users\\jaideep\\anaconda3\\envs\\zeno_lab\\lib\\site-packages (from transformers) (6.0.2)\n",
      "Requirement already satisfied: regex!=2019.12.17 in c:\\users\\jaideep\\anaconda3\\envs\\zeno_lab\\lib\\site-packages (from transformers) (2024.11.6)\n",
      "Requirement already satisfied: requests in c:\\users\\jaideep\\anaconda3\\envs\\zeno_lab\\lib\\site-packages (from transformers) (2.32.3)\n",
      "Requirement already satisfied: tokenizers<0.22,>=0.21 in c:\\users\\jaideep\\anaconda3\\envs\\zeno_lab\\lib\\site-packages (from transformers) (0.21.0)\n",
      "Requirement already satisfied: safetensors>=0.4.1 in c:\\users\\jaideep\\anaconda3\\envs\\zeno_lab\\lib\\site-packages (from transformers) (0.5.2)\n",
      "Requirement already satisfied: tqdm>=4.27 in c:\\users\\jaideep\\anaconda3\\envs\\zeno_lab\\lib\\site-packages (from transformers) (4.67.1)\n",
      "Requirement already satisfied: fsspec>=2023.5.0 in c:\\users\\jaideep\\anaconda3\\envs\\zeno_lab\\lib\\site-packages (from huggingface-hub<1.0,>=0.26.0->transformers) (2024.12.0)\n",
      "Requirement already satisfied: typing-extensions>=3.7.4.3 in c:\\users\\jaideep\\anaconda3\\envs\\zeno_lab\\lib\\site-packages (from huggingface-hub<1.0,>=0.26.0->transformers) (4.12.2)\n",
      "Requirement already satisfied: colorama in c:\\users\\jaideep\\anaconda3\\envs\\zeno_lab\\lib\\site-packages (from tqdm>=4.27->transformers) (0.4.6)\n",
      "Requirement already satisfied: charset-normalizer<4,>=2 in c:\\users\\jaideep\\anaconda3\\envs\\zeno_lab\\lib\\site-packages (from requests->transformers) (3.4.1)\n",
      "Requirement already satisfied: idna<4,>=2.5 in c:\\users\\jaideep\\anaconda3\\envs\\zeno_lab\\lib\\site-packages (from requests->transformers) (3.10)\n",
      "Requirement already satisfied: urllib3<3,>=1.21.1 in c:\\users\\jaideep\\anaconda3\\envs\\zeno_lab\\lib\\site-packages (from requests->transformers) (2.3.0)\n",
      "Requirement already satisfied: certifi>=2017.4.17 in c:\\users\\jaideep\\anaconda3\\envs\\zeno_lab\\lib\\site-packages (from requests->transformers) (2025.1.31)\n",
      "Requirement already satisfied: tqdm in c:\\users\\jaideep\\anaconda3\\envs\\zeno_lab\\lib\\site-packages (4.67.1)\n",
      "Requirement already satisfied: colorama in c:\\users\\jaideep\\anaconda3\\envs\\zeno_lab\\lib\\site-packages (from tqdm) (0.4.6)\n"
     ]
    }
   ],
   "source": [
    "!pip install datasets\n",
    "!pip install transformers\n",
    "!pip install tqdm"
   ]
  },
  {
   "cell_type": "code",
   "execution_count": 61,
   "metadata": {
    "colab": {
     "base_uri": "https://localhost:8080/"
    },
    "id": "CRrMiMnLV9xY",
    "outputId": "5193e819-f2cb-4032-99df-ced1ea7b4191",
    "scrolled": true
   },
   "outputs": [
    {
     "name": "stdout",
     "output_type": "stream",
     "text": [
      "Python 3.10.16\n"
     ]
    }
   ],
   "source": [
    "!python --version"
   ]
  },
  {
   "cell_type": "markdown",
   "metadata": {},
   "source": [
    "# Step 2 - Load a dataset from Hugging Face"
   ]
  },
  {
   "cell_type": "code",
   "execution_count": 62,
   "metadata": {},
   "outputs": [
    {
     "data": {
      "text/html": [
       "<div>\n",
       "<style scoped>\n",
       "    .dataframe tbody tr th:only-of-type {\n",
       "        vertical-align: middle;\n",
       "    }\n",
       "\n",
       "    .dataframe tbody tr th {\n",
       "        vertical-align: top;\n",
       "    }\n",
       "\n",
       "    .dataframe thead th {\n",
       "        text-align: right;\n",
       "    }\n",
       "</style>\n",
       "<table border=\"1\" class=\"dataframe\">\n",
       "  <thead>\n",
       "    <tr style=\"text-align: right;\">\n",
       "      <th></th>\n",
       "      <th>text</th>\n",
       "      <th>label</th>\n",
       "    </tr>\n",
       "  </thead>\n",
       "  <tbody>\n",
       "    <tr>\n",
       "      <th>0</th>\n",
       "      <td>@user @user what do these '1/2 naked pics' hav...</td>\n",
       "      <td>1</td>\n",
       "    </tr>\n",
       "    <tr>\n",
       "      <th>1</th>\n",
       "      <td>OH: “I had a blue penis while I was this” [pla...</td>\n",
       "      <td>1</td>\n",
       "    </tr>\n",
       "    <tr>\n",
       "      <th>2</th>\n",
       "      <td>@user @user That's coming, but I think the vic...</td>\n",
       "      <td>1</td>\n",
       "    </tr>\n",
       "    <tr>\n",
       "      <th>3</th>\n",
       "      <td>I think I may be finally in with the in crowd ...</td>\n",
       "      <td>2</td>\n",
       "    </tr>\n",
       "    <tr>\n",
       "      <th>4</th>\n",
       "      <td>@user Wow,first Hugo Chavez and now Fidel Cast...</td>\n",
       "      <td>0</td>\n",
       "    </tr>\n",
       "  </tbody>\n",
       "</table>\n",
       "</div>"
      ],
      "text/plain": [
       "                                                text  label\n",
       "0  @user @user what do these '1/2 naked pics' hav...      1\n",
       "1  OH: “I had a blue penis while I was this” [pla...      1\n",
       "2  @user @user That's coming, but I think the vic...      1\n",
       "3  I think I may be finally in with the in crowd ...      2\n",
       "4  @user Wow,first Hugo Chavez and now Fidel Cast...      0"
      ]
     },
     "execution_count": 62,
     "metadata": {},
     "output_type": "execute_result"
    }
   ],
   "source": [
    "from datasets import load_dataset\n",
    "import pandas as pd\n",
    "\n",
    "ds = load_dataset(\"cardiffnlp/tweet_eval\", \"sentiment\")\n",
    "df = pd.DataFrame(ds['test']).head(500)\n",
    "df.head(5)"
   ]
  },
  {
   "cell_type": "code",
   "execution_count": 63,
   "metadata": {},
   "outputs": [],
   "source": [
    "def label_map(x):\n",
    "    if x == 0:\n",
    "        return 'negative'\n",
    "    elif x == 1:\n",
    "        return 'neutral'\n",
    "    elif x == 2:\n",
    "        return 'positive'\n",
    "    return x\n",
    "df['label'] = df['label'].map(label_map)"
   ]
  },
  {
   "cell_type": "markdown",
   "metadata": {},
   "source": [
    "# Step 3 - Run model inference"
   ]
  },
  {
   "cell_type": "markdown",
   "metadata": {},
   "source": [
    "Warning: This step is going to download two models of ~500MB each. \n",
    "\n",
    "**If you don't want to download the models, you can jump to step 4 and use the provided data in the repo instead.**"
   ]
  },
  {
   "cell_type": "markdown",
   "metadata": {},
   "source": [
    "### Run inference with roberta"
   ]
  },
  {
   "cell_type": "code",
   "execution_count": 64,
   "metadata": {},
   "outputs": [
    {
     "name": "stdout",
     "output_type": "stream",
     "text": [
      "2.6.0+cpu\n",
      "CUDA Available: False\n"
     ]
    }
   ],
   "source": [
    "import torch\n",
    "print(torch.__version__)\n",
    "print(\"CUDA Available:\", torch.cuda.is_available())\n"
   ]
  },
  {
   "cell_type": "code",
   "execution_count": 65,
   "metadata": {
    "scrolled": true
   },
   "outputs": [
    {
     "name": "stderr",
     "output_type": "stream",
     "text": [
      "Some weights of the model checkpoint at cardiffnlp/twitter-roberta-base-sentiment-latest were not used when initializing RobertaForSequenceClassification: ['roberta.pooler.dense.bias', 'roberta.pooler.dense.weight']\n",
      "- This IS expected if you are initializing RobertaForSequenceClassification from the checkpoint of a model trained on another task or with another architecture (e.g. initializing a BertForSequenceClassification model from a BertForPreTraining model).\n",
      "- This IS NOT expected if you are initializing RobertaForSequenceClassification from the checkpoint of a model that you expect to be exactly identical (initializing a BertForSequenceClassification model from a BertForSequenceClassification model).\n",
      "Device set to use cpu\n"
     ]
    }
   ],
   "source": [
    "# Use a pipeline as a high-level helper\n",
    "from transformers import pipeline\n",
    "\n",
    "pipe = pipeline(\"text-classification\", model=\"cardiffnlp/twitter-roberta-base-sentiment-latest\")"
   ]
  },
  {
   "cell_type": "code",
   "execution_count": 66,
   "metadata": {},
   "outputs": [
    {
     "name": "stderr",
     "output_type": "stream",
     "text": [
      "100%|██████████| 500/500 [00:40<00:00, 12.46it/s]\n"
     ]
    }
   ],
   "source": [
    "import tqdm\n",
    "\n",
    "results = []\n",
    "texts = df['text'].to_list()\n",
    "\n",
    "## Depending on your machine, this should take around 1 minute\n",
    "for text in tqdm.tqdm(texts):\n",
    "    results.append(pipe(text))"
   ]
  },
  {
   "cell_type": "code",
   "execution_count": 67,
   "metadata": {},
   "outputs": [],
   "source": [
    "df['roberta'] = [r[0]['label'] for r in results]\n",
    "df['roberta_score'] = [r[0]['score'] for r in results]"
   ]
  },
  {
   "cell_type": "markdown",
   "metadata": {},
   "source": [
    "### Run inference with gpt2"
   ]
  },
  {
   "cell_type": "code",
   "execution_count": 68,
   "metadata": {},
   "outputs": [
    {
     "name": "stderr",
     "output_type": "stream",
     "text": [
      "Device set to use cpu\n"
     ]
    }
   ],
   "source": [
    "# Use a pipeline as a high-level helper\n",
    "from transformers import pipeline\n",
    "\n",
    "pipe = pipeline(\"text-classification\", model=\"LYTinn/finetuning-sentiment-model-tweet-gpt2\")"
   ]
  },
  {
   "cell_type": "code",
   "execution_count": 69,
   "metadata": {},
   "outputs": [
    {
     "name": "stderr",
     "output_type": "stream",
     "text": [
      "100%|██████████| 500/500 [00:39<00:00, 12.74it/s]\n"
     ]
    }
   ],
   "source": [
    "import tqdm\n",
    "\n",
    "results = []\n",
    "texts = df['text'].to_list()\n",
    "\n",
    "## Depending on your machine, this should take around 1 minute\n",
    "for text in tqdm.tqdm(texts):\n",
    "    results.append(pipe(text))"
   ]
  },
  {
   "cell_type": "code",
   "execution_count": 70,
   "metadata": {},
   "outputs": [],
   "source": [
    "df['gpt2'] = [r[0]['label'] for r in results]\n",
    "df['gpt2_score'] = [r[0]['score'] for r in results]\n",
    "\n",
    "## map labels back\n",
    "def label_map(x):\n",
    "    if x == 'LABEL_0':\n",
    "        return 'negative'\n",
    "    elif x == 'LABEL_1':\n",
    "        return 'neutral'\n",
    "    elif x == 'LABEL_2':\n",
    "        return 'positive'\n",
    "    return x\n",
    "df['gpt2'] = df['gpt2'].map(label_map)"
   ]
  },
  {
   "cell_type": "markdown",
   "metadata": {},
   "source": [
    "# Step 4 - Pre-processing data and add additional columns"
   ]
  },
  {
   "cell_type": "code",
   "execution_count": 71,
   "metadata": {},
   "outputs": [],
   "source": [
    "## If you skip the model inference, uncomment the code below and load the provided data\n",
    "\n",
    "df = pd.read_csv('tweets.csv')"
   ]
  },
  {
   "cell_type": "code",
   "execution_count": 72,
   "metadata": {},
   "outputs": [],
   "source": [
    "df[\"input_length\"] = df[\"text\"].str.len()"
   ]
  },
  {
   "cell_type": "markdown",
   "metadata": {},
   "source": [
    "# Step 5 - Start Zeno for interactive slicing\n",
    "\n",
    "In this step, you need to create 5 slices in the Zeno interface and derive meaningful insights.\n",
    "\n",
    "As a starting point, try to create the two slices we provide:\n",
    "\n",
    "1. Tweets with hashtags\n",
    "2. Tweets with strong positive words (e.g., love) -- you can determine the exact words"
   ]
  },
  {
   "attachments": {},
   "cell_type": "markdown",
   "metadata": {},
   "source": [
    "Creating slices in Zeno is straightforward: Just click on the '+' button for 'create a new slice', and you can define the slice using existing column attributes, with simple value macthing or even regular expression.\n",
    "\n",
    "![image.png](images/image.png)\n",
    "\n",
    "There are more fun features in Zeno, including interactive metadata & model comparison -- feel free to check the teaser video in [README](https://github.com/zeno-ml/zeno) of the Zeno repository."
   ]
  },
  {
   "cell_type": "code",
   "execution_count": 73,
   "metadata": {
    "scrolled": true
   },
   "outputs": [
    {
     "name": "stdout",
     "output_type": "stream",
     "text": [
      "Successfully updated project.\n",
      "Access your project at  https://hub.zenoml.com/project/d1845d25-3369-4abe-bec4-f4c2c5e08267/Tweet%20Sentiment%20Analysis\n"
     ]
    },
    {
     "name": "stderr",
     "output_type": "stream",
     "text": [
      "c:\\Users\\Jaideep\\anaconda3\\envs\\zeno_lab\\lib\\site-packages\\zeno_client\\util.py:25: FutureWarning: Setting an item of incompatible dtype is deprecated and will raise in a future error of pandas. Value '['0' '1' '2' '3' '4' '5' '6' '7' '8' '9' '10' '11' '12' '13' '14' '15'\n",
      " '16' '17' '18' '19' '20' '21' '22' '23' '24' '25' '26' '27' '28' '29'\n",
      " '30' '31' '32' '33' '34' '35' '36' '37' '38' '39' '40' '41' '42' '43'\n",
      " '44' '45' '46' '47' '48' '49' '50' '51' '52' '53' '54' '55' '56' '57'\n",
      " '58' '59' '60' '61' '62' '63' '64' '65' '66' '67' '68' '69' '70' '71'\n",
      " '72' '73' '74' '75' '76' '77' '78' '79' '80' '81' '82' '83' '84' '85'\n",
      " '86' '87' '88' '89' '90' '91' '92' '93' '94' '95' '96' '97' '98' '99'\n",
      " '100' '101' '102' '103' '104' '105' '106' '107' '108' '109' '110' '111'\n",
      " '112' '113' '114' '115' '116' '117' '118' '119' '120' '121' '122' '123'\n",
      " '124' '125' '126' '127' '128' '129' '130' '131' '132' '133' '134' '135'\n",
      " '136' '137' '138' '139' '140' '141' '142' '143' '144' '145' '146' '147'\n",
      " '148' '149' '150' '151' '152' '153' '154' '155' '156' '157' '158' '159'\n",
      " '160' '161' '162' '163' '164' '165' '166' '167' '168' '169' '170' '171'\n",
      " '172' '173' '174' '175' '176' '177' '178' '179' '180' '181' '182' '183'\n",
      " '184' '185' '186' '187' '188' '189' '190' '191' '192' '193' '194' '195'\n",
      " '196' '197' '198' '199' '200' '201' '202' '203' '204' '205' '206' '207'\n",
      " '208' '209' '210' '211' '212' '213' '214' '215' '216' '217' '218' '219'\n",
      " '220' '221' '222' '223' '224' '225' '226' '227' '228' '229' '230' '231'\n",
      " '232' '233' '234' '235' '236' '237' '238' '239' '240' '241' '242' '243'\n",
      " '244' '245' '246' '247' '248' '249' '250' '251' '252' '253' '254' '255'\n",
      " '256' '257' '258' '259' '260' '261' '262' '263' '264' '265' '266' '267'\n",
      " '268' '269' '270' '271' '272' '273' '274' '275' '276' '277' '278' '279'\n",
      " '280' '281' '282' '283' '284' '285' '286' '287' '288' '289' '290' '291'\n",
      " '292' '293' '294' '295' '296' '297' '298' '299' '300' '301' '302' '303'\n",
      " '304' '305' '306' '307' '308' '309' '310' '311' '312' '313' '314' '315'\n",
      " '316' '317' '318' '319' '320' '321' '322' '323' '324' '325' '326' '327'\n",
      " '328' '329' '330' '331' '332' '333' '334' '335' '336' '337' '338' '339'\n",
      " '340' '341' '342' '343' '344' '345' '346' '347' '348' '349' '350' '351'\n",
      " '352' '353' '354' '355' '356' '357' '358' '359' '360' '361' '362' '363'\n",
      " '364' '365' '366' '367' '368' '369' '370' '371' '372' '373' '374' '375'\n",
      " '376' '377' '378' '379' '380' '381' '382' '383' '384' '385' '386' '387'\n",
      " '388' '389' '390' '391' '392' '393' '394' '395' '396' '397' '398' '399'\n",
      " '400' '401' '402' '403' '404' '405' '406' '407' '408' '409' '410' '411'\n",
      " '412' '413' '414' '415' '416' '417' '418' '419' '420' '421' '422' '423'\n",
      " '424' '425' '426' '427' '428' '429' '430' '431' '432' '433' '434' '435'\n",
      " '436' '437' '438' '439' '440' '441' '442' '443' '444' '445' '446' '447'\n",
      " '448' '449' '450' '451' '452' '453' '454' '455' '456' '457' '458' '459'\n",
      " '460' '461' '462' '463' '464' '465' '466' '467' '468' '469' '470' '471'\n",
      " '472' '473' '474' '475' '476' '477' '478' '479' '480' '481' '482' '483'\n",
      " '484' '485' '486' '487' '488' '489' '490' '491' '492' '493' '494' '495'\n",
      " '496' '497' '498' '499']' has dtype incompatible with int64, please explicitly cast to a compatible dtype first.\n",
      "  df.loc[:, id_column] = df[id_column].astype(str)\n",
      "100%|██████████| 1/1 [00:00<00:00,  1.02it/s]\n",
      "C:\\Users\\Jaideep\\AppData\\Local\\Temp\\ipykernel_10120\\1191926782.py:39: SettingWithCopyWarning: \n",
      "A value is trying to be set on a copy of a slice from a DataFrame.\n",
      "Try using .loc[row_indexer,col_indexer] = value instead\n",
      "\n",
      "See the caveats in the documentation: https://pandas.pydata.org/pandas-docs/stable/user_guide/indexing.html#returning-a-view-versus-a-copy\n",
      "  df_system[\"correct\"] = (df_system[model] == df[\"label\"]).astype(int)\n"
     ]
    },
    {
     "name": "stdout",
     "output_type": "stream",
     "text": [
      "Successfully uploaded data\n"
     ]
    },
    {
     "name": "stderr",
     "output_type": "stream",
     "text": [
      "100%|██████████| 1/1 [00:00<00:00,  1.55it/s]\n",
      "C:\\Users\\Jaideep\\AppData\\Local\\Temp\\ipykernel_10120\\1191926782.py:39: SettingWithCopyWarning: \n",
      "A value is trying to be set on a copy of a slice from a DataFrame.\n",
      "Try using .loc[row_indexer,col_indexer] = value instead\n",
      "\n",
      "See the caveats in the documentation: https://pandas.pydata.org/pandas-docs/stable/user_guide/indexing.html#returning-a-view-versus-a-copy\n",
      "  df_system[\"correct\"] = (df_system[model] == df[\"label\"]).astype(int)\n"
     ]
    },
    {
     "name": "stdout",
     "output_type": "stream",
     "text": [
      "Successfully uploaded system\n"
     ]
    },
    {
     "name": "stderr",
     "output_type": "stream",
     "text": [
      "100%|██████████| 1/1 [00:00<00:00,  1.61it/s]"
     ]
    },
    {
     "name": "stdout",
     "output_type": "stream",
     "text": [
      "Successfully uploaded system\n",
      "✅ ZenoHub setup complete. Project uploaded successfully!\n"
     ]
    },
    {
     "name": "stderr",
     "output_type": "stream",
     "text": [
      "\n"
     ]
    }
   ],
   "source": [
    "## If you don't have a Zeno account already, create one on Zeno Hub (https://hub.zenoml.com/signup). \n",
    "## After logging in to Zeno Hub, generate your API key by clicking on your profile at the top right to navigate to your account page.\n",
    "\n",
    "# !pip install zeno_client\n",
    "\n",
    "import os\n",
    "from dotenv import load_dotenv\n",
    "from zeno_client import ZenoClient, ZenoMetric\n",
    "import pandas as pd\n",
    "\n",
    "# Load API Key from .env file\n",
    "load_dotenv()\n",
    "API_KEY = os.getenv(\"ZENO_API_KEY\")\n",
    "\n",
    "if not API_KEY:\n",
    "    raise ValueError(\"❌ API Key not found. Make sure you have a .env file with ZENO_API_KEY set.\")\n",
    "\n",
    "# Initialize a client with the API key\n",
    "client = ZenoClient(API_KEY)\n",
    "\n",
    "df = pd.read_csv('tweets.csv')\n",
    "df = df.reset_index()\n",
    "\n",
    "project = client.create_project(\n",
    "    name=\"Tweet Sentiment Analysis\",\n",
    "    view=\"text-classification\",\n",
    "    metrics=[\n",
    "        ZenoMetric(name=\"accuracy\", type=\"mean\", columns=[\"correct\"]),\n",
    "    ]\n",
    ")\n",
    "\n",
    "project.upload_dataset(df, id_column=\"index\", data_column=\"text\", label_column=\"label\")\n",
    "\n",
    "models = ['roberta', 'gpt2']\n",
    "for model in models:\n",
    "    df_system = df[['index', model]]\n",
    "    \n",
    "    # Measure accuracy for each instance, which is averaged by the ZenoMetric above\n",
    "    df_system[\"correct\"] = (df_system[model] == df[\"label\"]).astype(int)\n",
    "    \n",
    "    project.upload_system(df_system, name=model, id_column=\"index\", output_column=model)\n",
    "\n",
    "print(\"✅ ZenoHub setup complete. Project uploaded successfully!\")"
   ]
  },
  {
   "cell_type": "markdown",
   "metadata": {},
   "source": [
    "After running the code above, you should be able to access Zeno in http://localhost:8231"
   ]
  },
  {
   "cell_type": "markdown",
   "metadata": {},
   "source": [
    "\n",
    "After successfully creating the two slices, come up with three *additional* slices you want to check and **create** the slices in the Zeno interface.\n",
    "\n",
    "There are two directions to identify useful slices:\n",
    "- Top-down: Think about what kinds of things the model can struggle with, and come up with some slices.\n",
    "- Bottom-up: Look at model (mis-)predictions, come up with hypotheses, and translate them into data slices.\n",
    "\n",
    "3. [YOUR CHOICE]\n",
    "4. [YOUR CHOICE]\n",
    "5. [YOUR CHOICE]"
   ]
  },
  {
   "cell_type": "code",
   "execution_count": null,
   "metadata": {},
   "outputs": [],
   "source": [
    "## Write down descriptions of additional slices you created\n",
    "\n",
    "custom_slice_descriptions = [\n",
    "    \"Short tweets with fewer than 50 characters to check how the model performs on brief text inputs.\",\n",
    "    \"Tweets that include hashtags to see if the presence of hashtags impacts sentiment classification.\",\n",
    "    \"Tweets that contain URLs to analyze if external links influence the sentiment classification.\"\n",
    "]"
   ]
  },
  {
   "cell_type": "markdown",
   "metadata": {},
   "source": [
    "# Step 6 - Write down three addition data slices you want to create but do not have the metadata for slicing"
   ]
  },
  {
   "cell_type": "markdown",
   "metadata": {},
   "source": [
    "In the previous step, you might have already come up with some slices you wanted to create but found it hard to do with existing metadata. Write down three of such slices in this step.\n",
    "\n",
    "Example: \n",
    "- I want to create a slice on tweets using slangs\n",
    "- I want to create a slice on non-English tweets (if any)"
   ]
  },
  {
   "cell_type": "code",
   "execution_count": null,
   "metadata": {},
   "outputs": [],
   "source": [
    "## Write down three additional data slices here:\n",
    "\n",
    "additional_slice_descriptions = [\n",
    "    \"Tweets containing emojis to analyze how non-textual emotional cues affect sentiment classification.\",\n",
    "    \"Tweets containing fully capitalized words, which may indicate emphasis or strong emotion.\",\n",
    "    \"Tweets with repeated characters that could exaggerate sentiments and impact classification accuracy.\"\n",
    "]"
   ]
  },
  {
   "cell_type": "markdown",
   "metadata": {},
   "source": [
    "# Step 7 - Generate more test cases with Large Language Models"
   ]
  },
  {
   "cell_type": "markdown",
   "metadata": {},
   "source": [
    "Select one slice from the three you wrote down and generate **10 test cases** using LLMs, which can include average case, boundary case, or difficult case.\n",
    "\n",
    "Your input can be in the following format:\n",
    "\n",
    "> Examples:\n",
    "> - OH: “I had a blue penis while I was this” [playing with Google Earth VR]\n",
    "> - @user @user That’s coming, but I think the victims are going to be Medicaid recipients.\n",
    "> - I think I may be finally in with the in crowd #mannequinchallenge  #grads2014 @user\n",
    "> \n",
    "> Generate more tweets using slangs.\n",
    "\n",
    "The first part of **Examples** conditions the LLM on the style, length, and content of examples. The second part of **Instructions** instructs what kind of examples you want LLM to generate.\n",
    "\n",
    "Use our provided GPTs to start the task: [llm-based-test-case-generator](https://chatgpt.com/g/g-982cylVn2-llm-based-test-case-generator). If you do not have access to GPTs, use the plain ChatGPT or other LLM providers you have access to instead."
   ]
  },
  {
   "cell_type": "code",
   "execution_count": null,
   "metadata": {},
   "outputs": [],
   "source": [
    "## Write down the slice you select\n",
    "\n",
    "slice_description = \"Tweets containing emojis to analyze how non-textual emotional cues affect sentiment classification.\"\n",
    "\n",
    "## Write down all generated test cases here\n",
    "\n",
    "generated_test_cases = [\n",
    "    \"I just can't believe I lost my phone again... 😭📱\",\n",
    "    \"Just nailed my presentation! 💪😎\",\n",
    "    \"The weather today is absolutely perfect ☀️🌼\",\n",
    "    \"Seriously? You call *this* service? 😤👎\",\n",
    "    \"When life gives you lemons 🍋, make lemonade!\",\n",
    "    \"I’m so done with everything right now 😔😡\",\n",
    "    \"This pizza is the BEST food ever! 🍕🔥\",\n",
    "    \"Why does traffic always ruin my mornings? 🚗💥\",\n",
    "    \"Feeling blessed and grateful 🙏❤️\",\n",
    "    \"Why did I even bother going out today... 😓💭\"\n",
    "    ]"
   ]
  }
 ],
 "metadata": {
  "colab": {
   "provenance": []
  },
  "kernelspec": {
   "display_name": "zeno_lab",
   "language": "python",
   "name": "python3"
  },
  "language_info": {
   "codemirror_mode": {
    "name": "ipython",
    "version": 3
   },
   "file_extension": ".py",
   "mimetype": "text/x-python",
   "name": "python",
   "nbconvert_exporter": "python",
   "pygments_lexer": "ipython3",
   "version": "3.10.16"
  }
 },
 "nbformat": 4,
 "nbformat_minor": 4
}
